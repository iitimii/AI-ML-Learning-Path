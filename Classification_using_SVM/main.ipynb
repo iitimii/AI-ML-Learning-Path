{
 "cells": [
  {
   "cell_type": "code",
   "execution_count": 1,
   "metadata": {},
   "outputs": [],
   "source": [
    "import numpy as np\n",
    "import pandas as pd\n",
    "import tensorflow as tf\n",
    "from tensorflow.keras.preprocessing.image import ImageDataGenerator\n",
    "from tensorflow.keras import Sequential\n",
    "from tensorflow.keras.layers import Conv2D,Dense,MaxPool2D,Flatten\n",
    "from tensorflow.keras.regularizers import l2"
   ]
  },
  {
   "cell_type": "code",
   "execution_count": 2,
   "metadata": {},
   "outputs": [],
   "source": [
    "train_dir = \"C:/Users/Timii/Documents/Dev/Zummit/dataset/training_set\"\n",
    "test_dir = \"C:/Users/Timii/Documents/Dev/Zummit/dataset/test_set\""
   ]
  },
  {
   "cell_type": "code",
   "execution_count": 3,
   "metadata": {},
   "outputs": [
    {
     "name": "stdout",
     "output_type": "stream",
     "text": [
      "Found 8000 images belonging to 2 classes.\n",
      "Found 2000 images belonging to 2 classes.\n"
     ]
    }
   ],
   "source": [
    "train_datagen = ImageDataGenerator(rescale=(1/255.),shear_range = 0.2,zoom_range=0.2,\n",
    "                                   horizontal_flip=True)\n",
    "training_set = train_datagen.flow_from_directory(directory = train_dir,target_size=(64,64),\n",
    "                                                batch_size=32,\n",
    "                                                class_mode = \"binary\")\n",
    "test_datagen = ImageDataGenerator(rescale=(1/255.))\n",
    "test_set = test_datagen.flow_from_directory(directory = test_dir,target_size=(64,64),\n",
    "                                                batch_size=32,\n",
    "                                                class_mode = \"binary\")"
   ]
  },
  {
   "cell_type": "code",
   "execution_count": 4,
   "metadata": {},
   "outputs": [],
   "source": [
    "model = Sequential()\n",
    "model.add(Conv2D(filters = 32, padding = \"same\",activation = \"relu\",kernel_size=3, strides = 2,input_shape=(64,64,3)))\n",
    "model.add(MaxPool2D(pool_size=(2,2),strides = 2))\n",
    "\n",
    "model.add(Conv2D(filters = 32, padding = \"same\",activation = \"relu\",kernel_size=3))\n",
    "model.add(MaxPool2D(pool_size=(2,2),strides = 2))\n",
    "\n",
    "model.add(Flatten())\n",
    "model.add(Dense(128,activation=\"relu\"))\n",
    "\n",
    "#Output layer\n",
    "model.add(Dense(1, kernel_regularizer=l2(0.01),activation = \"linear\"))\n",
    "\n",
    "model.compile(optimizer = 'adam', loss = 'hinge', metrics = ['accuracy'])"
   ]
  },
  {
   "cell_type": "code",
   "execution_count": 5,
   "metadata": {},
   "outputs": [
    {
     "name": "stdout",
     "output_type": "stream",
     "text": [
      "Epoch 1/15\n",
      "250/250 [==============================] - 120s 473ms/step - loss: 0.9435 - accuracy: 0.5433 - val_loss: 0.7879 - val_accuracy: 0.6495\n",
      "Epoch 2/15\n",
      "250/250 [==============================] - 41s 165ms/step - loss: 0.7707 - accuracy: 0.6365 - val_loss: 0.7715 - val_accuracy: 0.7005\n",
      "Epoch 3/15\n",
      "250/250 [==============================] - 40s 160ms/step - loss: 0.6915 - accuracy: 0.6754 - val_loss: 0.6266 - val_accuracy: 0.7115\n",
      "Epoch 4/15\n",
      "250/250 [==============================] - 39s 158ms/step - loss: 0.6442 - accuracy: 0.6959 - val_loss: 0.6269 - val_accuracy: 0.7305\n",
      "Epoch 5/15\n",
      "250/250 [==============================] - 40s 161ms/step - loss: 0.6120 - accuracy: 0.7110 - val_loss: 0.5756 - val_accuracy: 0.7310\n",
      "Epoch 6/15\n",
      "250/250 [==============================] - 40s 161ms/step - loss: 0.5894 - accuracy: 0.7203 - val_loss: 0.5731 - val_accuracy: 0.7530\n",
      "Epoch 7/15\n",
      "250/250 [==============================] - 41s 165ms/step - loss: 0.5659 - accuracy: 0.7396 - val_loss: 0.6031 - val_accuracy: 0.7605\n",
      "Epoch 8/15\n",
      "250/250 [==============================] - 42s 167ms/step - loss: 0.5495 - accuracy: 0.7477 - val_loss: 0.5312 - val_accuracy: 0.7415\n",
      "Epoch 9/15\n",
      "250/250 [==============================] - 43s 171ms/step - loss: 0.5282 - accuracy: 0.7509 - val_loss: 0.5811 - val_accuracy: 0.7745\n",
      "Epoch 10/15\n",
      "250/250 [==============================] - 42s 166ms/step - loss: 0.5165 - accuracy: 0.7598 - val_loss: 0.5128 - val_accuracy: 0.7770\n",
      "Epoch 11/15\n",
      "250/250 [==============================] - 39s 154ms/step - loss: 0.4941 - accuracy: 0.7714 - val_loss: 0.4951 - val_accuracy: 0.7750\n",
      "Epoch 12/15\n",
      "250/250 [==============================] - 39s 158ms/step - loss: 0.4988 - accuracy: 0.7709 - val_loss: 0.5435 - val_accuracy: 0.7820\n",
      "Epoch 13/15\n",
      "250/250 [==============================] - 39s 155ms/step - loss: 0.4963 - accuracy: 0.7716 - val_loss: 0.4864 - val_accuracy: 0.7740\n",
      "Epoch 14/15\n",
      "250/250 [==============================] - 41s 166ms/step - loss: 0.4776 - accuracy: 0.7800 - val_loss: 0.5005 - val_accuracy: 0.7880\n",
      "Epoch 15/15\n",
      "250/250 [==============================] - 42s 166ms/step - loss: 0.4563 - accuracy: 0.7900 - val_loss: 0.4845 - val_accuracy: 0.7860\n"
     ]
    }
   ],
   "source": [
    "history = model.fit(x = training_set, validation_data = test_set, epochs=15)"
   ]
  }
 ],
 "metadata": {
  "kernelspec": {
   "display_name": "Python 3",
   "language": "python",
   "name": "python3"
  },
  "language_info": {
   "codemirror_mode": {
    "name": "ipython",
    "version": 3
   },
   "file_extension": ".py",
   "mimetype": "text/x-python",
   "name": "python",
   "nbconvert_exporter": "python",
   "pygments_lexer": "ipython3",
   "version": "3.10.8"
  },
  "orig_nbformat": 4
 },
 "nbformat": 4,
 "nbformat_minor": 2
}
